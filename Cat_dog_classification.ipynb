{
 "cells": [
  {
   "cell_type": "markdown",
   "id": "54ef5939-4a18-4e15-a3aa-a0aab5d0f5b5",
   "metadata": {},
   "source": [
    "# Importing the requirement "
   ]
  },
  {
   "cell_type": "code",
   "execution_count": null,
   "id": "c369e050-44cc-4607-9944-d241145ffe83",
   "metadata": {},
   "outputs": [],
   "source": [
    "import numpy as np\n",
    "import pandas as pd\n",
    "import matplotlib.pyplot as plt\n",
    "import tensorflow as tf\n",
    "from tensorflow import keras\n",
    "from tensorflow.keras.preprocessing.image import ImageDataGenerator\n",
    "import os\n",
    "import zipfile \n",
    "import random"
   ]
  },
  {
   "cell_type": "markdown",
   "id": "d489a56d-350e-4fba-87af-718b8720b8f9",
   "metadata": {},
   "source": [
    "# Getting the dataset"
   ]
  },
  {
   "cell_type": "code",
   "execution_count": null,
   "id": "107b4835-8afa-4b11-8bb3-2fb9b45e28fc",
   "metadata": {},
   "outputs": [],
   "source": [
    "dataset_path = \"cats_and_dogs_filtered (1).zip\"\n",
    "extract_path = \"cats_and_dogs\""
   ]
  },
  {
   "cell_type": "markdown",
   "id": "e8369ee1-c254-4a51-b0d4-29db86bd99ca",
   "metadata": {},
   "source": [
    "# Extract the dataset"
   ]
  },
  {
   "cell_type": "code",
   "execution_count": null,
   "id": "372dd4f4-706c-47d2-8c4b-bff47db9f315",
   "metadata": {},
   "outputs": [],
   "source": [
    "if not os.path.exists(extract_path):\n",
    "    print(\"Extracting dataset....\")\n",
    "    with zipfile.ZipFile(dataset_path, 'r') as zip_ref:\n",
    "        zip_ref.extractall(extract_path)\n",
    "    print(\"Extraction Complete!\")"
   ]
  },
  {
   "cell_type": "code",
   "execution_count": null,
   "id": "7f60b2d6-ed2a-4b44-aae6-ee3d370471da",
   "metadata": {},
   "outputs": [],
   "source": [
    "train_dir = os.path.join(extract_path, \"cats_and_dogs_filtered/train/\")\n",
    "val_dir = os.path.join(extract_path, \"cats_and_dogs_filtered/validation/\")"
   ]
  },
  {
   "cell_type": "code",
   "execution_count": null,
   "id": "572b8ccd-417b-4f6d-9b17-283a9161d774",
   "metadata": {},
   "outputs": [],
   "source": [
    "from PIL import Image\n",
    "cat_dir = os.path.join(train_dir, \"cats\")"
   ]
  },
  {
   "cell_type": "code",
   "execution_count": null,
   "id": "4489aa92-475d-42fd-a39e-1c8ffcacbd9e",
   "metadata": {},
   "outputs": [],
   "source": [
    "image_files = os.listdir(cat_dir)"
   ]
  },
  {
   "cell_type": "code",
   "execution_count": null,
   "id": "bc4c0cd9-df20-4b45-b6cf-dba43144b3c3",
   "metadata": {},
   "outputs": [],
   "source": [
    "print(\"avaiable images:\", image_files[:5])"
   ]
  },
  {
   "cell_type": "code",
   "execution_count": null,
   "id": "c7b63283-35d6-4231-82d0-2277f8195cf4",
   "metadata": {},
   "outputs": [],
   "source": [
    "image_path = os.path.join(cat_dir, image_files[1])\n",
    "image = Image.open(image_path)\n",
    "plt.imshow(image)"
   ]
  },
  {
   "cell_type": "code",
   "execution_count": 50,
   "id": "e1e06661-89e3-4870-9612-07205cb2fcb6",
   "metadata": {},
   "outputs": [],
   "source": [
    "# preprocess image\n",
    "\n",
    "train_datagen = ImageDataGenerator(rescale=1./255, rotation_range=20, horizontal_flip=True)\n",
    "val_datagen = ImageDataGenerator(rescale=1./255)"
   ]
  },
  {
   "cell_type": "code",
   "execution_count": 51,
   "id": "e5315770-6321-41d8-800c-549d0dd0ace4",
   "metadata": {},
   "outputs": [
    {
     "name": "stdout",
     "output_type": "stream",
     "text": [
      "Found 2001 images belonging to 2 classes.\n"
     ]
    }
   ],
   "source": [
    "train_generator = train_datagen.flow_from_directory(train_dir,\n",
    "                                                    target_size=(150,150),\n",
    "                                                    batch_size=32,\n",
    "                                                    class_mode=\"binary\")"
   ]
  },
  {
   "cell_type": "code",
   "execution_count": 52,
   "id": "2dcff1c3-b174-4d21-b99c-48b3bed578a5",
   "metadata": {},
   "outputs": [
    {
     "name": "stdout",
     "output_type": "stream",
     "text": [
      "Found 1003 images belonging to 2 classes.\n"
     ]
    }
   ],
   "source": [
    "val_generator = val_datagen.flow_from_directory(val_dir,\n",
    "                                                    target_size=(150,150),\n",
    "                                                    batch_size=32,\n",
    "                                                    class_mode=\"binary\")"
   ]
  },
  {
   "cell_type": "code",
   "execution_count": 53,
   "id": "f5c7d4ff-9105-4fb0-a249-e38d3e354ac8",
   "metadata": {},
   "outputs": [],
   "source": [
    "# Build Cnn Model"
   ]
  },
  {
   "cell_type": "code",
   "execution_count": 54,
   "id": "fb7c2b10-5709-46e2-992c-6984a42c0553",
   "metadata": {},
   "outputs": [],
   "source": [
    "import keras"
   ]
  },
  {
   "cell_type": "code",
   "execution_count": 58,
   "id": "35bff36b-e7b7-4ffb-99c3-3b6eeeedc674",
   "metadata": {},
   "outputs": [],
   "source": [
    "model = keras.Sequential([\n",
    "    keras.layers.Conv2D(32, (3,3), activation='relu', input_shape=(150, 150 ,3)),\n",
    "    keras.layers.MaxPooling2D(2, 2),\n",
    "\n",
    "    keras.layers.Conv2D(64, (3,3), activation='relu'),\n",
    "    keras.layers.MaxPooling2D(2, 2),\n",
    "\n",
    "    keras.layers.Conv2D(128, (3,3), activation='relu'),\n",
    "    keras.layers.MaxPooling2D(2, 2),\n",
    "\n",
    "    keras.layers.Flatten(),\n",
    "    keras.layers.Dense(512, activation='relu'),\n",
    "    keras.layers.Dense(1, activation='sigmoid')   # binary classification\n",
    "\n",
    "])\n"
   ]
  },
  {
   "cell_type": "code",
   "execution_count": 59,
   "id": "8c1a5eca-ef62-4406-8b0f-9053c2fcb1cb",
   "metadata": {},
   "outputs": [],
   "source": [
    "model.compile(optimizer='adam', loss='binary_crossentropy', metrics=['accuracy'])"
   ]
  },
  {
   "cell_type": "code",
   "execution_count": 60,
   "id": "20531bbe-9535-4a02-af6c-9424c7835e9e",
   "metadata": {},
   "outputs": [
    {
     "name": "stderr",
     "output_type": "stream",
     "text": [
      "C:\\Users\\EDGATE\\AppData\\Local\\Programs\\Python\\Python310\\lib\\site-packages\\keras\\src\\trainers\\data_adapters\\py_dataset_adapter.py:121: UserWarning: Your `PyDataset` class should call `super().__init__(**kwargs)` in its constructor. `**kwargs` can include `workers`, `use_multiprocessing`, `max_queue_size`. Do not pass these arguments to `fit()`, as they will be ignored.\n",
      "  self._warn_if_super_not_called()\n"
     ]
    },
    {
     "name": "stdout",
     "output_type": "stream",
     "text": [
      "Epoch 1/10\n",
      "\u001b[1m63/63\u001b[0m \u001b[32m━━━━━━━━━━━━━━━━━━━━\u001b[0m\u001b[37m\u001b[0m \u001b[1m118s\u001b[0m 2s/step - accuracy: 0.4968 - loss: 0.7921 - val_accuracy: 0.5234 - val_loss: 0.6925\n",
      "Epoch 2/10\n",
      "\u001b[1m63/63\u001b[0m \u001b[32m━━━━━━━━━━━━━━━━━━━━\u001b[0m\u001b[37m\u001b[0m \u001b[1m44s\u001b[0m 703ms/step - accuracy: 0.5478 - loss: 0.6878 - val_accuracy: 0.6221 - val_loss: 0.6734\n",
      "Epoch 3/10\n",
      "\u001b[1m63/63\u001b[0m \u001b[32m━━━━━━━━━━━━━━━━━━━━\u001b[0m\u001b[37m\u001b[0m \u001b[1m48s\u001b[0m 757ms/step - accuracy: 0.6149 - loss: 0.6653 - val_accuracy: 0.6391 - val_loss: 0.6525\n",
      "Epoch 4/10\n",
      "\u001b[1m63/63\u001b[0m \u001b[32m━━━━━━━━━━━━━━━━━━━━\u001b[0m\u001b[37m\u001b[0m \u001b[1m46s\u001b[0m 729ms/step - accuracy: 0.6201 - loss: 0.6548 - val_accuracy: 0.6301 - val_loss: 0.6331\n",
      "Epoch 5/10\n",
      "\u001b[1m63/63\u001b[0m \u001b[32m━━━━━━━━━━━━━━━━━━━━\u001b[0m\u001b[37m\u001b[0m \u001b[1m42s\u001b[0m 663ms/step - accuracy: 0.6670 - loss: 0.6189 - val_accuracy: 0.6700 - val_loss: 0.6067\n",
      "Epoch 6/10\n",
      "\u001b[1m63/63\u001b[0m \u001b[32m━━━━━━━━━━━━━━━━━━━━\u001b[0m\u001b[37m\u001b[0m \u001b[1m42s\u001b[0m 662ms/step - accuracy: 0.7082 - loss: 0.5686 - val_accuracy: 0.6810 - val_loss: 0.5966\n",
      "Epoch 7/10\n",
      "\u001b[1m63/63\u001b[0m \u001b[32m━━━━━━━━━━━━━━━━━━━━\u001b[0m\u001b[37m\u001b[0m \u001b[1m43s\u001b[0m 688ms/step - accuracy: 0.7090 - loss: 0.5712 - val_accuracy: 0.6670 - val_loss: 0.6102\n",
      "Epoch 8/10\n",
      "\u001b[1m63/63\u001b[0m \u001b[32m━━━━━━━━━━━━━━━━━━━━\u001b[0m\u001b[37m\u001b[0m \u001b[1m45s\u001b[0m 715ms/step - accuracy: 0.7418 - loss: 0.5274 - val_accuracy: 0.7368 - val_loss: 0.5394\n",
      "Epoch 9/10\n",
      "\u001b[1m63/63\u001b[0m \u001b[32m━━━━━━━━━━━━━━━━━━━━\u001b[0m\u001b[37m\u001b[0m \u001b[1m53s\u001b[0m 848ms/step - accuracy: 0.7497 - loss: 0.4908 - val_accuracy: 0.7298 - val_loss: 0.5242\n",
      "Epoch 10/10\n",
      "\u001b[1m63/63\u001b[0m \u001b[32m━━━━━━━━━━━━━━━━━━━━\u001b[0m\u001b[37m\u001b[0m \u001b[1m45s\u001b[0m 709ms/step - accuracy: 0.7787 - loss: 0.4707 - val_accuracy: 0.7278 - val_loss: 0.5296\n"
     ]
    }
   ],
   "source": [
    "history = model.fit(train_generator, epochs=10, validation_data=val_generator)"
   ]
  },
  {
   "cell_type": "markdown",
   "id": "ff1ebaf7-bbc4-423a-ba39-953f8ef274cb",
   "metadata": {},
   "source": [
    "# Save the Model"
   ]
  },
  {
   "cell_type": "code",
   "execution_count": 61,
   "id": "2bbeb6ee-de32-4ef1-8be1-fe1bcd099b0d",
   "metadata": {},
   "outputs": [
    {
     "name": "stderr",
     "output_type": "stream",
     "text": [
      "WARNING:absl:You are saving your model as an HDF5 file via `model.save()` or `keras.saving.save_model(model)`. This file format is considered legacy. We recommend using instead the native Keras format, e.g. `model.save('my_model.keras')` or `keras.saving.save_model(model, 'my_model.keras')`. \n"
     ]
    },
    {
     "name": "stdout",
     "output_type": "stream",
     "text": [
      "model saved successfully\n"
     ]
    }
   ],
   "source": [
    "model.save(\"cat_dog_classifier.h5\")\n",
    "print(\"model saved successfully\")"
   ]
  },
  {
   "cell_type": "code",
   "execution_count": 62,
   "id": "bd9c3832-a0c2-4b2f-b5d8-15c9fa9bb15b",
   "metadata": {},
   "outputs": [
    {
     "name": "stdout",
     "output_type": "stream",
     "text": [
      "\u001b[1m32/32\u001b[0m \u001b[32m━━━━━━━━━━━━━━━━━━━━\u001b[0m\u001b[37m\u001b[0m \u001b[1m8s\u001b[0m 247ms/step - accuracy: 0.7478 - loss: 0.5089\n"
     ]
    }
   ],
   "source": [
    "loss, accuracy =  model.evaluate(val_generator)"
   ]
  },
  {
   "cell_type": "code",
   "execution_count": 63,
   "id": "7e082dc0-9d80-4ba3-afce-e075e68db78a",
   "metadata": {},
   "outputs": [
    {
     "name": "stdout",
     "output_type": "stream",
     "text": [
      " validation Accuracy :72.78%\n"
     ]
    }
   ],
   "source": [
    "print(f' validation Accuracy :{accuracy *100:.2f}%')"
   ]
  },
  {
   "cell_type": "code",
   "execution_count": null,
   "id": "c2778216-181b-432c-850d-52ba724bdc24",
   "metadata": {},
   "outputs": [],
   "source": []
  }
 ],
 "metadata": {
  "kernelspec": {
   "display_name": "Python 3 (ipykernel)",
   "language": "python",
   "name": "python3"
  },
  "language_info": {
   "codemirror_mode": {
    "name": "ipython",
    "version": 3
   },
   "file_extension": ".py",
   "mimetype": "text/x-python",
   "name": "python",
   "nbconvert_exporter": "python",
   "pygments_lexer": "ipython3",
   "version": "3.10.11"
  }
 },
 "nbformat": 4,
 "nbformat_minor": 5
}
